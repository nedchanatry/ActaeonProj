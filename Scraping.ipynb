{
 "cells": [
  {
   "cell_type": "markdown",
   "metadata": {},
   "source": [
    "### Creating URLs"
   ]
  },
  {
   "cell_type": "code",
   "execution_count": 9,
   "metadata": {},
   "outputs": [],
   "source": [
    "from bs4 import BeautifulSoup\n",
    "import urllib.request\n",
    "\n",
    "# creating full urls from base and tails that do not appear in html of main page (allows us to avoid clicking through to sub-urls)\n",
    "hunt_code = []\n",
    "short_url = 'https://dwrapps.utah.gov/huntboundary/HaNumber'\n",
    "hunt_nums = list(range(3000,3129))  #hard code list of limited entry hunt numbers\n",
    "for each in hunt_nums:\n",
    "    string = str(each)   # change each hunt number int to str for concatenation purposes\n",
    "    letters = '?hn=EB' + string   # concatenate hunt letter abbreviations with hunt numbers to create full hunt code\n",
    "    hunt_code.append(short_url + letters)\n",
    "    \n",
    "    \n",
    "# soup = []\n",
    "# for urls in hunt_code:\n",
    "#     with urllib.request.urlopen(urls) as response:\n",
    "#         html = response.read()\n",
    "#         html = html.decode('utf-8')\n",
    "\n",
    "#     # save the file\n",
    "#     with open('huntmaps.html', 'w') as new_file:\n",
    "#         new_file.write(html)\n",
    "\n",
    "#     # here it's already a local operation\n",
    "#     soup.append(BeautifulSoup(html, 'html.parser'))\n"
   ]
  },
  {
   "cell_type": "markdown",
   "metadata": {},
   "source": [
    "### Creating Soups for Scraping"
   ]
  },
  {
   "cell_type": "code",
   "execution_count": 12,
   "metadata": {},
   "outputs": [
    {
     "data": {
      "text/plain": [
       "dict"
      ]
     },
     "execution_count": 12,
     "metadata": {},
     "output_type": "execute_result"
    }
   ],
   "source": [
    "import requests\n",
    "res = requests.get(hunt_code[0])\n",
    "import json\n",
    "tree = json.loads(res.text)\n",
    "tree.keys\n"
   ]
  },
  {
   "cell_type": "code",
   "execution_count": null,
   "metadata": {},
   "outputs": [],
   "source": []
  }
 ],
 "metadata": {
  "kernelspec": {
   "display_name": "Python 3",
   "language": "python",
   "name": "python3"
  },
  "language_info": {
   "codemirror_mode": {
    "name": "ipython",
    "version": 3
   },
   "file_extension": ".py",
   "mimetype": "text/x-python",
   "name": "python",
   "nbconvert_exporter": "python",
   "pygments_lexer": "ipython3",
   "version": "3.7.1"
  }
 },
 "nbformat": 4,
 "nbformat_minor": 2
}
