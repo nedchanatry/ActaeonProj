{
 "cells": [
  {
   "cell_type": "markdown",
   "metadata": {},
   "source": [
    "__Basic Info__\n",
    "\n",
    "The project title: Utah Hunting Statanal\n",
    "your names: Patrick O'Bryan, Ned Chanatry\n",
    "e-mail addresses: pjobryan@yahoo.com\n",
    "UIDs:u0882642"
   ]
  },
  {
   "cell_type": "markdown",
   "metadata": {},
   "source": [
    "__Background and Motivation. Discuss your motivations and reasons for choosing this project, especially any background or research interests that may have influenced your decision.__\n",
    "\n",
    "Hunting in Utah is a popular pastime, with thousands of Utahans participating in hunts and many more entering lotteries to earn permission to hunt. \n",
    "\n"
   ]
  },
  {
   "cell_type": "markdown",
   "metadata": {},
   "source": [
    "__Project Objectives. Provide the primary questions you are trying to answer in your project. What would you like to learn and accomplish? List the benefits.__\n",
    "\n",
    "Our project looks to investigate the public hunting areas and determine which area is most likely to provide a good harvest and which area is the safest from predators. "
   ]
  },
  {
   "cell_type": "markdown",
   "metadata": {},
   "source": [
    "__Data. From where and how are you collecting your data? If appropriate, provide a link to your data sources.__\n",
    "\n",
    "The Data will be collected from the Utah Department of Wildlife Resources (DWR). The DWR provides two different sets of data: <br>\n",
    "> The first is estimate animal population per hunting area ( found here: https://wildlife.utah.gov/maps-first-page.html).\n",
    "<br> \n",
    "\n",
    ">The second is the annual harvest reports (found here:https://wildlife.utah.gov/hunting-in-utah/hunting-information/big-game/61-hunting/hunting-permits/1697-annual-and-harvest-reports.html). These statements list the reported harvests from all hunters by both animal type and by hunt locations. These reports also include incidental deaths (i.e. roadkill).  "
   ]
  },
  {
   "cell_type": "markdown",
   "metadata": {},
   "source": [
    "__Ethical considerations. Complete a stakeholder analysis for your project.__\n",
    "\n"
   ]
  },
  {
   "cell_type": "markdown",
   "metadata": {},
   "source": [
    "__Data Processing. Do you expect to do substantial data cleanup or data extraction? What quantities do you plan to derive from your data? How will data processing be implemented?__\n",
    "\n",
    "We do not expect substantial data cleanup nor extraction. The data is clean coming from the source. <br>\n",
    "<br>\n",
    "Quantities derived from the data will include:<br>\n",
    "> (Elk/Deer/Fowl) Population per area. \n",
    "\n",
    "> Number of Hunters per area\n",
    "\n",
    "> Predator population per area.\n",
    "\n",
    ">Likelyhood of winning lottery per area\n"
   ]
  },
  {
   "cell_type": "markdown",
   "metadata": {},
   "source": [
    "__Exploratory Analysis. Which methods and visualizations are you planning to use to look at your dataset?__\n",
    "\n",
    "\n",
    "We will use correlation statistics to see how the data interacts among itself. Then we would create a table rank-ordering the hunting areas.\n"
   ]
  },
  {
   "cell_type": "markdown",
   "metadata": {},
   "source": [
    "__Analysis Methodology. How are you planning to analyze your data?__\n",
    "\n"
   ]
  },
  {
   "cell_type": "markdown",
   "metadata": {},
   "source": [
    "__Project Schedule. Make sure that you plan your work so that you can avoid a big rush right before the final project deadline, and delegate different modules and responsibilities among your team members. Write this in terms of weekly deadlines.__\n",
    "\n",
    "Project Mileston 1 due March 31,2019\n"
   ]
  }
 ],
 "metadata": {
  "kernelspec": {
   "display_name": "Python 3",
   "language": "python",
   "name": "python3"
  },
  "language_info": {
   "codemirror_mode": {
    "name": "ipython",
    "version": 3
   },
   "file_extension": ".py",
   "mimetype": "text/x-python",
   "name": "python",
   "nbconvert_exporter": "python",
   "pygments_lexer": "ipython3",
   "version": "3.7.1"
  }
 },
 "nbformat": 4,
 "nbformat_minor": 2
}
